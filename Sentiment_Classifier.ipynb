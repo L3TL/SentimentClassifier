{
 "cells": [
  {
   "cell_type": "markdown",
   "metadata": {},
   "source": [
    "## Sentiment Classification: classifying IMDB reviews\n",
    "\n",
    "The following notebook represents a class project focusing on neural networks with limited input text data, done using pre-trained embeddings by glove for sentiment classification (classifying a review document as \"positive\" or \"negative\" based solely on the text content of the review).\n",
    "\n",
    "This is done via the 'Embedding' layer in keras to represent text input"
   ]
  },
  {
   "cell_type": "markdown",
   "metadata": {},
   "source": [
    "#### a) IMBD Data\n",
    "\n",
    "First off, the IMDB movie dataset is far too huge to upload online, so this link `http://ai.stanford.edu/~amaas/data/sentiment/` was used, into a directory called 'data' if you wish to replicate it yourself. The review labels will the be list of `labels` to the reviews, compressed into a string."
   ]
  },
  {
   "cell_type": "markdown",
   "metadata": {},
   "source": [
    "This section searches through both the positive and negative folders, reading exclusively text files (_just in case_) into a list, with the labels depending on whether the folder when reading is 'pos' or 'neg'. <br> An initial approach was to determine if the rating post underscore (f.e: '129_4.txt') was above/beneath a threshold (5-6), as positive results all had ratings more than 6, and negative had ratings less than 5. This proved to be too extreme/redundant compared to this approach."
   ]
  },
  {
   "cell_type": "code",
   "execution_count": 1,
   "metadata": {},
   "outputs": [
    {
     "name": "stdout",
     "output_type": "stream",
     "text": [
      "25000 25000\n"
     ]
    }
   ],
   "source": [
    "import os\n",
    "data_dir = './data/aclImdb/'\n",
    "train_dir = data_dir + 'train'\n",
    "test_dir = data_dir + 'test'\n",
    "\n",
    "labels = []\n",
    "texts = []\n",
    "sentiments = ['neg', 'pos']\n",
    "\n",
    "for label_type in sentiments:\n",
    "    dir_name = os.path.join(train_dir, label_type)\n",
    "    for fname in os.listdir(dir_name):\n",
    "        if fname[-4:] == '.txt':\n",
    "            f = open(os.path.join(dir_name, fname), encoding='utf8')\n",
    "            texts.append(f.read())\n",
    "            f.close()\n",
    "            if label_type == 'neg':\n",
    "                labels.append(0)\n",
    "            else:\n",
    "                labels.append(1)\n",
    "print(len(labels),len(texts))\n",
    "\n",
    "texts1 = []\n",
    "labels1 = []\n",
    "for label_type in ['neg', 'pos']:\n",
    "    dir_name = os.path.join(test_dir, label_type)\n",
    "    for fname in sorted(os.listdir(dir_name)):\n",
    "        if fname[-4:] == '.txt':\n",
    "            f = open(os.path.join(dir_name, fname), encoding='utf8')\n",
    "            texts1.append(f.read())\n",
    "            f.close()\n",
    "            if label_type == 'neg':\n",
    "                labels1.append(0)\n",
    "            else:\n",
    "                labels1.append(1)\n",
    "print(len(labels1),len(texts1))"
   ]
  },
  {
   "cell_type": "markdown",
   "metadata": {},
   "source": [
    "#### b) Pre-process the review documents \n",
    "Rather than using NLTK and Regex, Keras had the Tokenizer, which performs most of the actions required. The tokenizer pre-processing parameters are such that it considers only up to 10,000 words (_instead of 5000, which is because of the model later_), lowercases all words, and removes all non-alphanumeric characters. <br>\n",
    "The tokenizer transforms the training data into an integer sequence for the sake of vectorizing, which will be used with the embedding matrix later. As a precaution, the dataset was shuffled again, and split such that the first 1000 is the training set, and the next 10000 is the validation set (11000/25000 used)."
   ]
  },
  {
   "cell_type": "code",
   "execution_count": 5,
   "metadata": {},
   "outputs": [
    {
     "name": "stdout",
     "output_type": "stream",
     "text": [
      "Found 88582 unique tokens.\n",
      "Shape of data tensor: (25000, 100)\n",
      "Shape of label tensor: (25000,)\n",
      "1000 10000\n"
     ]
    }
   ],
   "source": [
    "from keras.preprocessing.text import Tokenizer\n",
    "from keras.preprocessing.sequence import pad_sequences\n",
    "from nltk.corpus import stopwords\n",
    "import numpy as np\n",
    "# print(len(data),len(label))\n",
    "\n",
    "maxlen = 100  #Cut reviews after 100 words\n",
    "training_samples = 1000  # First 1000 reviews\n",
    "validation_samples = 10000 # Validation samples are 10000 after train\n",
    "max_words = 10000  # Top 10,000 words in the dataset instead of 5000\n",
    "\n",
    "token = Tokenizer(num_words=max_words, lower=True, split=' ', filters='!\"#$%&()*+,-./:;<=>?@[\\\\]^_`{|}~\\t\\n')\n",
    "token.fit_on_texts(texts)\n",
    "sequences = token.texts_to_sequences(texts)\n",
    "word_index = token.word_index\n",
    "print('Found %s unique tokens.' % len(word_index))\n",
    "\n",
    "data = pad_sequences(sequences, maxlen=100)\n",
    "labels = np.asarray(labels)\n",
    "print('Shape of data tensor:', data.shape)\n",
    "print('Shape of label tensor:', labels.shape)\n",
    "\n",
    "indices = np.arange(data.shape[0])\n",
    "np.random.shuffle(indices)\n",
    "data = data[indices]\n",
    "labels = labels[indices]\n",
    "\n",
    "x_train = data[:training_samples]\n",
    "y_train = labels[:training_samples]\n",
    "x_val = data[training_samples:training_samples + validation_samples]\n",
    "y_val = labels[training_samples:training_samples + validation_samples]\n",
    "print(len(x_train), len(x_val))"
   ]
  },
  {
   "cell_type": "markdown",
   "metadata": {},
   "source": [
    "The test data was also pre-processed in the same manner, but was not split."
   ]
  },
  {
   "cell_type": "code",
   "execution_count": 6,
   "metadata": {},
   "outputs": [],
   "source": [
    "sequences1 = token.texts_to_sequences(texts1)\n",
    "data1 = pad_sequences(sequences1, maxlen=maxlen)\n",
    "labels1 = np.asarray(labels1)\n",
    "\n",
    "indices = np.arange(data1.shape[0])\n",
    "np.random.shuffle(indices)\n",
    "x_test = data1[indices]\n",
    "y_test = labels[indices]"
   ]
  },
  {
   "cell_type": "markdown",
   "metadata": {},
   "source": [
    "#### c) GloVe Embedding\n",
    "Glove is an even bigger repository containing the word embeddings needed for this Natural Language Processing project. Since upload is impossible, steps to acquire it will be hosted here instead. \n",
    "\n",
    "--------------------\n",
    "Link: `https://nlp.stanford.edu/projects/glove/` \n",
    "Filename:  `glove.6B.zip`\n",
    "Details: Contains 100-dimensional embedding vectors for 400,000 words (or non-word tokens), all as a `.txt` file\n",
    "\n",
    "The following section parses said file to index map the words to their vector representation (numbers), known as an embedding matrix. Note that to handle this with the `Embedding` layer from Keras later, the input shape needs to be `(max_words, embedding_dim)`, where entry `i` contains `embedding-dim`, the vector"
   ]
  },
  {
   "cell_type": "markdown",
   "metadata": {},
   "source": [
    "Here the 100 dimension textfile is loaded into a 100x100 matrix, where each entry is the word vector. Note that the print statement indicates the amount of word vectors inside that file, but far less are being used inside this matrix. Each word vector will be weighted accordingly, both from occurrence/frequency and weight coefficients from GloVe. If there isn't a word found in the embedding, that matrix entry will be empty (_all zeros_)."
   ]
  },
  {
   "cell_type": "code",
   "execution_count": 7,
   "metadata": {},
   "outputs": [
    {
     "name": "stdout",
     "output_type": "stream",
     "text": [
      "Found 400000 word vectors.\n"
     ]
    }
   ],
   "source": [
    "file_dir = './glove.6B/glove.6B.100d.txt'\n",
    "# write your code here\n",
    "embeddings_index = {}\n",
    "with open(file_dir,'r', encoding='utf8') as f:\n",
    "    for line in f:\n",
    "        values = line.split()\n",
    "        word = values[0]\n",
    "        coefs = np.asarray(values[1:], dtype='float32')\n",
    "        embeddings_index[word] = coefs\n",
    "    f.close()\n",
    "print('Found %s word vectors.' % len(embeddings_index))\n",
    "\n",
    "#Populate all entries with zeros. Only fill entries with matching word vectors\n",
    "embedding_matrix = np.zeros((max_words, 100))\n",
    "for word, i in word_index.items():\n",
    "    embedding_vector = embeddings_index.get(word)\n",
    "    if i < max_words:\n",
    "        if embedding_vector is not None:\n",
    "            embedding_matrix[i] = embedding_vector"
   ]
  },
  {
   "cell_type": "markdown",
   "metadata": {},
   "source": [
    "#### Sequential Model\n",
    "A basic sequential model, consisting of the embedding layer (_which asks to be 10,000 tokens max, contradicting the initial statement of 5,000. So the previous was upped to 10k._), the flattening layer, and dense layers. Sigmoid was used to perform binary classification (positive/negative). <br>\n",
    "The trainable attribute was also frozen to prevent updating, as these weights by glove are already pre-trained, and will be skewed/messed if updated per epoch. The standard/safe number of epochs (20-30) and batch amount (32) were used. <br> The training accuracy whilst training was suspiciously around 0.99~1.00, with the validation accuracy barely improving."
   ]
  },
  {
   "cell_type": "code",
   "execution_count": 8,
   "metadata": {
    "scrolled": true
   },
   "outputs": [
    {
     "name": "stdout",
     "output_type": "stream",
     "text": [
      "_________________________________________________________________\n",
      "Layer (type)                 Output Shape              Param #   \n",
      "=================================================================\n",
      "embedding_2 (Embedding)      (None, 100, 100)          1000000   \n",
      "_________________________________________________________________\n",
      "flatten_2 (Flatten)          (None, 10000)             0         \n",
      "_________________________________________________________________\n",
      "dense_3 (Dense)              (None, 32)                320032    \n",
      "_________________________________________________________________\n",
      "dense_4 (Dense)              (None, 1)                 33        \n",
      "=================================================================\n",
      "Total params: 1,320,065\n",
      "Trainable params: 1,320,065\n",
      "Non-trainable params: 0\n",
      "_________________________________________________________________\n",
      "WARNING:tensorflow:From C:\\Users\\recon\\Anaconda3\\lib\\site-packages\\tensorflow\\python\\ops\\math_ops.py:3066: to_int32 (from tensorflow.python.ops.math_ops) is deprecated and will be removed in a future version.\n",
      "Instructions for updating:\n",
      "Use tf.cast instead.\n",
      "Train on 1000 samples, validate on 10000 samples\n",
      "Epoch 1/20\n",
      "1000/1000 [==============================] - 1s 702us/step - loss: 0.9702 - acc: 0.5220 - val_loss: 0.7353 - val_acc: 0.5103\n",
      "Epoch 2/20\n",
      "1000/1000 [==============================] - 1s 583us/step - loss: 0.6170 - acc: 0.6830 - val_loss: 0.6512 - val_acc: 0.6228\n",
      "Epoch 3/20\n",
      "1000/1000 [==============================] - 0s 493us/step - loss: 0.5065 - acc: 0.7490 - val_loss: 0.6704 - val_acc: 0.5967\n",
      "Epoch 4/20\n",
      "1000/1000 [==============================] - 0s 490us/step - loss: 0.4150 - acc: 0.8420 - val_loss: 0.6523 - val_acc: 0.6331\n",
      "Epoch 5/20\n",
      "1000/1000 [==============================] - 1s 552us/step - loss: 0.3333 - acc: 0.8660 - val_loss: 0.7191 - val_acc: 0.6023\n",
      "Epoch 6/20\n",
      "1000/1000 [==============================] - 1s 573us/step - loss: 0.2892 - acc: 0.8960 - val_loss: 0.6847 - val_acc: 0.6306\n",
      "Epoch 7/20\n",
      "1000/1000 [==============================] - 1s 575us/step - loss: 0.1913 - acc: 0.9480 - val_loss: 0.7027 - val_acc: 0.6254\n",
      "Epoch 8/20\n",
      "1000/1000 [==============================] - 1s 507us/step - loss: 0.1644 - acc: 0.9560 - val_loss: 0.7278 - val_acc: 0.6284\n",
      "Epoch 9/20\n",
      "1000/1000 [==============================] - 1s 533us/step - loss: 0.1147 - acc: 0.9760 - val_loss: 0.7599 - val_acc: 0.6226\n",
      "Epoch 10/20\n",
      "1000/1000 [==============================] - 0s 499us/step - loss: 0.0812 - acc: 0.9830 - val_loss: 0.8723 - val_acc: 0.6081\n",
      "Epoch 11/20\n",
      "1000/1000 [==============================] - 1s 507us/step - loss: 0.0679 - acc: 0.9830 - val_loss: 0.8657 - val_acc: 0.6223\n",
      "Epoch 12/20\n",
      "1000/1000 [==============================] - 1s 651us/step - loss: 0.0762 - acc: 0.9790 - val_loss: 0.8959 - val_acc: 0.6143\n",
      "Epoch 13/20\n",
      "1000/1000 [==============================] - 1s 601us/step - loss: 0.0195 - acc: 1.0000 - val_loss: 1.4138 - val_acc: 0.5576\n",
      "Epoch 14/20\n",
      "1000/1000 [==============================] - 1s 643us/step - loss: 0.0302 - acc: 0.9950 - val_loss: 1.3095 - val_acc: 0.5774\n",
      "Epoch 15/20\n",
      "1000/1000 [==============================] - 1s 563us/step - loss: 0.0589 - acc: 0.9810 - val_loss: 0.9945 - val_acc: 0.6197\n",
      "Epoch 16/20\n",
      "1000/1000 [==============================] - 1s 530us/step - loss: 0.0057 - acc: 1.0000 - val_loss: 1.0495 - val_acc: 0.6190\n",
      "Epoch 17/20\n",
      "1000/1000 [==============================] - 0s 476us/step - loss: 0.0660 - acc: 0.9710 - val_loss: 1.0111 - val_acc: 0.6205\n",
      "Epoch 18/20\n",
      "1000/1000 [==============================] - 0s 486us/step - loss: 0.0040 - acc: 1.0000 - val_loss: 1.1638 - val_acc: 0.6157\n",
      "Epoch 19/20\n",
      "1000/1000 [==============================] - 1s 517us/step - loss: 0.0817 - acc: 0.9780 - val_loss: 1.1153 - val_acc: 0.6199\n",
      "Epoch 20/20\n",
      "1000/1000 [==============================] - 0s 498us/step - loss: 0.0027 - acc: 1.0000 - val_loss: 1.1486 - val_acc: 0.6241\n"
     ]
    }
   ],
   "source": [
    "from keras.models import Sequential\n",
    "from keras.layers import Embedding, Flatten, Dense, Dropout, Conv1D, MaxPooling1D\n",
    "\n",
    "\n",
    "# write your code here\n",
    "model = Sequential()\n",
    "model.add(Embedding(10000, 100, input_length=100))\n",
    "model.add(Flatten())\n",
    "model.add(Dense(32, activation='relu'))\n",
    "model.add(Dense(1, activation='sigmoid'))\n",
    "model.summary()\n",
    "\n",
    "model.layers[0].set_weights([embedding_matrix])\n",
    "model.layers[0].trainable = False\n",
    "\n",
    "model.compile(optimizer='rmsprop', loss='binary_crossentropy', metrics=['accuracy'])\n",
    "history = model.fit(x_train, y_train, epochs=20, batch_size=32,validation_data=(x_val, y_val))"
   ]
  },
  {
   "cell_type": "markdown",
   "metadata": {},
   "source": [
    "#### Results obvservation\n",
    "The results show that the data is obviously overfitted, with the validation data experiencing no improvement in accuracy, yet the training data having a near 1.0 accuracy. This is also apparent in the training loss nearing 0, validation loss going above 1, and the accuracy score of being around 0.5 post evaluation (_Equivalent to random guessing, or guessing entirely on a single class_) This could be due to the small dataset size, or the lack of LSTM/Convolutional Layer to effectively differentiate/learn."
   ]
  },
  {
   "cell_type": "code",
   "execution_count": 31,
   "metadata": {},
   "outputs": [
    {
     "data": {
      "image/png": "[encoded data removed]",
      "text/plain": [
       "<Figure size 432x288 with 1 Axes>"
      ]
     },
     "metadata": {
      "needs_background": "light"
     },
     "output_type": "display_data"
    },
    {
     "data": {
      "image/png": "[encoded data removed]",
      "text/plain": [
       "<Figure size 432x288 with 1 Axes>"
      ]
     },
     "metadata": {
      "needs_background": "light"
     },
     "output_type": "display_data"
    },
    {
     "name": "stdout",
     "output_type": "stream",
     "text": [
      "25000/25000 [==============================] - 1s 39us/step\n",
      "Accuracy: 50%\n"
     ]
    }
   ],
   "source": [
    "import matplotlib.pyplot as plt\n",
    "\n",
    "# write your code here\n",
    "acc = history.history['acc']\n",
    "val_acc = history.history['val_acc']\n",
    "loss = history.history['loss']\n",
    "val_loss = history.history['val_loss']\n",
    "\n",
    "epochs = range(1, len(acc) + 1)\n",
    "\n",
    "plt.plot(epochs, acc, 'r', label='Training acc')\n",
    "plt.plot(epochs, val_acc, 'b', label='Validation acc')\n",
    "plt.title('Training and validation accuracy')\n",
    "plt.legend()\n",
    "\n",
    "plt.figure()\n",
    "\n",
    "plt.plot(epochs, loss, 'r', label='Training loss')\n",
    "plt.plot(epochs, val_loss, 'b', label='Validation loss')\n",
    "plt.title('Training and validation loss')\n",
    "plt.legend()\n",
    "\n",
    "plt.show()\n",
    "loss,acc = model.evaluate(x_test,y_test)\n",
    "print('Accuracy: {:.0%}'.format(acc))"
   ]
  },
  {
   "cell_type": "markdown",
   "metadata": {},
   "source": [
    "#### Hyperparameter Exploration\n",
    "Several other experimentations were done to determine what improves the model performance.\n",
    "* Adding additional LSTM Layers appeared to worsen the validation accuracy as the training goes\n",
    "* Adding Dropout was necessary to prevent the overfitting from happening too soon (_It still does, but slower_), which had to be around 50%\n",
    "* Altering the LSTM filter amount to a smaller amount (32 rather than 100) appeared to solve the overfitting best, making the validation accuracy almost identical to the training data\n",
    "* Altering the Dense layer filter amount to a smaller value also improved the model's performance"
   ]
  },
  {
   "cell_type": "code",
   "execution_count": 55,
   "metadata": {
    "scrolled": true
   },
   "outputs": [
    {
     "name": "stdout",
     "output_type": "stream",
     "text": [
      "_________________________________________________________________\n",
      "Layer (type)                 Output Shape              Param #   \n",
      "=================================================================\n",
      "embedding_27 (Embedding)     (None, 100, 100)          1000000   \n",
      "_________________________________________________________________\n",
      "lstm_23 (LSTM)               (None, 32)                17024     \n",
      "_________________________________________________________________\n",
      "dropout_12 (Dropout)         (None, 32)                0         \n",
      "_________________________________________________________________\n",
      "dense_41 (Dense)             (None, 32)                1056      \n",
      "_________________________________________________________________\n",
      "dense_42 (Dense)             (None, 1)                 33        \n",
      "=================================================================\n",
      "Total params: 1,018,113\n",
      "Trainable params: 1,018,113\n",
      "Non-trainable params: 0\n",
      "_________________________________________________________________\n",
      "Train on 1000 samples, validate on 10000 samples\n",
      "Epoch 1/20\n",
      "1000/1000 [==============================] - 6s 6ms/step - loss: 0.7034 - acc: 0.4970 - val_loss: 0.6867 - val_acc: 0.5673\n",
      "Epoch 2/20\n",
      "1000/1000 [==============================] - 3s 3ms/step - loss: 0.6882 - acc: 0.5470 - val_loss: 0.6880 - val_acc: 0.5190\n",
      "Epoch 3/20\n",
      "1000/1000 [==============================] - 3s 3ms/step - loss: 0.6847 - acc: 0.5460 - val_loss: 0.6783 - val_acc: 0.5710\n",
      "Epoch 4/20\n",
      "1000/1000 [==============================] - 3s 3ms/step - loss: 0.6716 - acc: 0.5960 - val_loss: 0.6733 - val_acc: 0.5745\n",
      "Epoch 5/20\n",
      "1000/1000 [==============================] - 3s 3ms/step - loss: 0.6527 - acc: 0.6210 - val_loss: 0.6513 - val_acc: 0.6119\n",
      "Epoch 6/20\n",
      "1000/1000 [==============================] - 3s 3ms/step - loss: 0.6275 - acc: 0.6740 - val_loss: 0.6510 - val_acc: 0.6028\n",
      "Epoch 7/20\n",
      "1000/1000 [==============================] - 3s 3ms/step - loss: 0.6112 - acc: 0.6900 - val_loss: 0.5934 - val_acc: 0.7029\n",
      "Epoch 8/20\n",
      "1000/1000 [==============================] - 3s 3ms/step - loss: 0.6066 - acc: 0.6770 - val_loss: 0.6370 - val_acc: 0.6232\n",
      "Epoch 9/20\n",
      "1000/1000 [==============================] - 3s 3ms/step - loss: 0.5854 - acc: 0.7080 - val_loss: 0.5767 - val_acc: 0.7060\n",
      "Epoch 10/20\n",
      "1000/1000 [==============================] - 3s 3ms/step - loss: 0.5669 - acc: 0.7120 - val_loss: 0.5516 - val_acc: 0.7278\n",
      "Epoch 11/20\n",
      "1000/1000 [==============================] - 3s 3ms/step - loss: 0.5582 - acc: 0.7260 - val_loss: 0.6090 - val_acc: 0.6616\n",
      "Epoch 12/20\n",
      "1000/1000 [==============================] - 3s 3ms/step - loss: 0.5626 - acc: 0.7300 - val_loss: 0.5336 - val_acc: 0.7437\n",
      "Epoch 13/20\n",
      "1000/1000 [==============================] - 3s 3ms/step - loss: 0.5235 - acc: 0.7540 - val_loss: 0.5753 - val_acc: 0.6935\n",
      "Epoch 14/20\n",
      "1000/1000 [==============================] - 3s 3ms/step - loss: 0.5154 - acc: 0.7610 - val_loss: 0.5307 - val_acc: 0.7457\n",
      "Epoch 15/20\n",
      "1000/1000 [==============================] - 3s 3ms/step - loss: 0.4873 - acc: 0.7760 - val_loss: 0.5356 - val_acc: 0.7477\n",
      "Epoch 16/20\n",
      "1000/1000 [==============================] - 3s 3ms/step - loss: 0.4870 - acc: 0.7740 - val_loss: 0.5187 - val_acc: 0.7521\n",
      "Epoch 17/20\n",
      "1000/1000 [==============================] - 3s 3ms/step - loss: 0.4716 - acc: 0.7840 - val_loss: 0.5277 - val_acc: 0.7471\n",
      "Epoch 18/20\n",
      "1000/1000 [==============================] - 3s 3ms/step - loss: 0.4558 - acc: 0.8000 - val_loss: 0.5662 - val_acc: 0.7302\n",
      "Epoch 19/20\n",
      "1000/1000 [==============================] - 3s 3ms/step - loss: 0.4416 - acc: 0.8080 - val_loss: 0.6830 - val_acc: 0.6667\n",
      "Epoch 20/20\n",
      "1000/1000 [==============================] - 3s 3ms/step - loss: 0.4318 - acc: 0.8050 - val_loss: 0.5675 - val_acc: 0.7386\n"
     ]
    }
   ],
   "source": [
    "from keras.layers import LSTM\n",
    "\n",
    "# write your code here\n",
    "model1 = Sequential()\n",
    "model1.add(Embedding(10000, 100, input_length=100))\n",
    "model1.add(LSTM(32))\n",
    "model1.add(Dropout(0.5))\n",
    "# model1.add(Flatten())\n",
    "# model1.add(LSTM(100))\n",
    "model1.add(Dense(32, activation='relu'))\n",
    "model1.add(Dense(1, activation='sigmoid'))\n",
    "model1.summary()\n",
    "\n",
    "model1.layers[0].set_weights([embedding_matrix])\n",
    "model1.layers[0].trainable = False\n",
    "\n",
    "model1.compile(optimizer='rmsprop', loss='binary_crossentropy', metrics=['accuracy'])\n",
    "history1 = model1.fit(x_train, y_train, epochs=20, batch_size=32,validation_data=(x_val, y_val))"
   ]
  },
  {
   "cell_type": "markdown",
   "metadata": {},
   "source": [
    "Whilst the accuracy appears to be the same, score-wise the LSTM model has an improvement of around ~0.02 higher scoring, with less overfitting occuring on the datasets. The accuracy can be attributed to the lack of available data to train (_1000 entries is too small_)"
   ]
  },
  {
   "cell_type": "code",
   "execution_count": 59,
   "metadata": {},
   "outputs": [
    {
     "data": {
      "image/png": "[encoded data removed]",
      "text/plain": [
       "<Figure size 432x288 with 1 Axes>"
      ]
     },
     "metadata": {
      "needs_background": "light"
     },
     "output_type": "display_data"
    },
    {
     "data": {
      "image/png": "[encoded data removed]",
      "text/plain": [
       "<Figure size 432x288 with 1 Axes>"
      ]
     },
     "metadata": {
      "needs_background": "light"
     },
     "output_type": "display_data"
    },
    {
     "name": "stdout",
     "output_type": "stream",
     "text": [
      "25000/25000 [==============================] - 6s 242us/step\n",
      "Accuracy: 50%\n"
     ]
    }
   ],
   "source": [
    "acc = history1.history['acc']\n",
    "val_acc = history1.history['val_acc']\n",
    "loss = history1.history['loss']\n",
    "val_loss = history1.history['val_loss']\n",
    "\n",
    "epochs = range(1, len(acc) + 1)\n",
    "\n",
    "plt.plot(epochs, acc, 'r', label='Training acc')\n",
    "plt.plot(epochs, val_acc, 'b', label='Validation acc')\n",
    "plt.title('Training and validation accuracy')\n",
    "plt.legend()\n",
    "\n",
    "plt.figure()\n",
    "\n",
    "plt.plot(epochs, loss, 'r', label='Training loss')\n",
    "plt.plot(epochs, val_loss, 'b', label='Validation loss')\n",
    "plt.title('Training and validation loss')\n",
    "plt.legend()\n",
    "\n",
    "plt.show()\n",
    "loss, acc = model1.evaluate(x_test, y_test)\n",
    "print('Accuracy: {:.0%}'.format(acc))"
   ]
  },
  {
   "cell_type": "markdown",
   "metadata": {},
   "source": [
    "#### Closing thoughts\n",
    "From here, the idea was to repeatedly fine-tune the model hyperparameters until the accuracy hits a decent score of >70%. However, given how small the data size is, there is a chance that bias may have occured with the given selection, and that finding more was too much of a hassle at this given time. Therefore, it will be left as is with the assumption that tweaking is simply done from here on out, but otherwise:\n",
    "\n",
    "A model that predicts positive/negative from tweets is made"
   ]
  },
  {
   "cell_type": "code",
   "execution_count": null,
   "metadata": {},
   "outputs": [],
   "source": []
  }
 ],
 "metadata": {
  "kernelspec": {
   "display_name": "Python 3",
   "language": "python",
   "name": "python3"
  },
  "language_info": {
   "codemirror_mode": {
    "name": "ipython",
    "version": 3
   },
   "file_extension": ".py",
   "mimetype": "text/x-python",
   "name": "python",
   "nbconvert_exporter": "python",
   "pygments_lexer": "ipython3",
   "version": "3.7.3"
  }
 },
 "nbformat": 4,
 "nbformat_minor": 2
}
